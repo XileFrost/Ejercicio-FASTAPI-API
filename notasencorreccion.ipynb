{
 "cells": [
  {
   "cell_type": "code",
   "execution_count": null,
   "metadata": {},
   "outputs": [],
   "source": [
    "'''Ejercicios lunes 24 y martes 25 febrero'''\n",
    "\n",
    "# Correr la app de primeras\n",
    "uvicorn.run(app)\n",
    "\n",
    "# 1. Creo la conexión\n",
    "# 2. Configuro la carga del modelo con pickle\n",
    "# 3. Creación de endpoints necesarios\n",
    "IMPORTANTE: si obtenemos algún tipo de valor nulo es mejor corregirlo directamente en el archivo de la base de datos. \n",
    "\n",
    "# El \"str(e) en un endpoint te devuelve una explicación del error.\n",
    "# En el test piden una lista de listas, no una lista de diccionarioss. Por eso me sobra el class Input (BaseModel)\n",
    "# Para pasar un test tienen que coincidir el método expresado en el endpoint del model o main con el método expresado en el test. \n",
    "# Cuando haya operaciones de ingesta no está de más poner conn.rollback() para asegurarnos deshacer todos los valores introducidos y que no se altere la base de datos. \n",
    "# El modelo conviene cargarlo dentro de cada endpoint, porque cargándolo al principio no vamos a lograr más que llamar al modelo original sin reentrenar.\n",
    "# La manera de hacer que arranque puede ser mucho más sencilla.\n",
    "# Imprescindible pytest (en terminal, estando dentro de la carpeta donde tengo todo >> pytest nombrearchivo) correcto en local antes de convertir a imagen docker. \n",
    "# Dockerfile a partir de docker python images. Recomendado coger imágenes de tipo slim \n",
    "# requirements incluir sólo aquellas librerías necesarias para correr la app que en algún momento tuvimos que instalar, hay librerías que por defecto vienen con python, y esas librerías no he de instalarlas. Por ejemplo, sqlite3 y pickle \n",
    "# Recomendable llamar a la imagen nombre:versionX siendo versionX el número de versión. (fastapi-advertising:v1)\n",
    "# Detener contenedor tras prueba en terminal, CTRL + C (al menos en Windows)\n"
   ]
  }
 ],
 "metadata": {
  "kernelspec": {
   "display_name": "Python 3",
   "language": "python",
   "name": "python3"
  },
  "language_info": {
   "name": "python",
   "version": "3.10.0"
  }
 },
 "nbformat": 4,
 "nbformat_minor": 2
}

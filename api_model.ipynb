{
 "cells": [
  {
   "attachments": {},
   "cell_type": "markdown",
   "metadata": {},
   "source": [
    "# Ejercicio FASTAPI API\n",
    "Para este ejercicio tendrás que desplegar un modelo de machine learning en una API para su consumo. Ya tienes un modelo entrenado,desarrollarás una API que permita consumir dicho modelo desde cualquier otra tecnología.\n",
    "\n",
    "**Se presenta el siguiente caso de uso**\n",
    "\n",
    "Una empresa distribuidora de ámbito nacional pretende utilizar un modelo desarrollado por el departamento de data science, con el que consiguen una predicción de las ventas a partir de los gastos en marketing de anuncios en televisión, radio y periódicos. Quieren incorporar estos datos dentro de su página web interna, donde comparten todo tipo de información relativa a resultados de la empresa, ventas, adquisiciones, etc... La web está desarrollada en AngularJS, mientras que el modelo se desarrolló en Python, por lo que precisamos de una interfaz de comunicación entre ambos sistemas.\n",
    "\n",
    "El equipo de desarrollo necesita que implementes un microservicio para que ellos puedan consumir el modelo desde la propia web, comunicándose con una BBDD para ingestar o reentrenar el modelo. No vale base de datos en csv. El microservicio tiene que cumplir las siguientes características:\n",
    "1. Ofrezca la predicción de ventas a partir de todos los valores de gastos en publicidad. (/predict)\n",
    "2. Un endpoint para almacenar nuevos registros en la base de datos que deberás crear previamente.(/ingest)\n",
    "3. Posibilidad de reentrenar de nuevo el modelo con los posibles nuevos registros que se recojan. (/retrain)\n",
    "\n",
    "\n",
    "**NOTAS**: \n",
    "1. Deberás desplegarlo desde un repositorio de github.\n",
    "2. Ojo con la ruta para hacer el load de tu modelo y datos, comprueba cual es la ruta en la que está buscándolo.\n",
    "3. El desarrollo de un modelo de machine learning no es el objetivo del ejercicio, sino el desarrollo de una API con FastAPI.\n",
    "4. Deberán pasar los tests para verificar que funcionan correctamente con pytest test_api.py desde terminal.\n",
    "\n",
    "**Entregable**: repositorio github."
   ]
  },
  {
   "cell_type": "code",
   "execution_count": 1,
   "metadata": {},
   "outputs": [],
   "source": [
    "# MLOps son las siglas en inglés de \"operaciones de aprendizaje automático\" y hacen referencia al proceso de gestión del ciclo de vida del aprendizaje automático, desde su desarrollo hasta su despliegue y su monitorización. Este proceso implica tareas como las siguientes:\n",
    "\n",
    "# Seguimiento de experimentos: hacer un seguimiento de los experimentos y los resultados para identificar los mejores modelos.\n",
    "# Despliegue de modelos: desplegar modelos en producción y hacer que sean accesibles para las aplicaciones.\n",
    "# Monitorización de modelos: llevar a cabo la monitorización de modelos para detectar problemas o un deterioro del rendimiento.\n",
    "# Reentrenamiento de modelos: volver a entrenar modelos con datos nuevos para mejorar su rendimiento.\n",
    "# MLOps es fundamental para garantizar que los modelos de aprendizaje automático sean fiables, escalables y sostenibles en los entornos de producción."
   ]
  },
  {
   "cell_type": "code",
   "execution_count": null,
   "metadata": {},
   "outputs": [],
   "source": [
    "# 100 registros\n",
    "# 80 train\n",
    "# 20 test --> MAE:100\n",
    "\n",
    "# Modelo en producción MAE:100\n",
    "\n",
    "# El día de mañana: LLegan 30 registros, los ingestamos\n",
    "# Evaluamos el modelo con esos 30 registros \n",
    "# MAE:100? Sí, perfecto\n",
    "# No: 20% superior. Necesitamos reentrenar un modelo, porque ya no generaliza igual de bien. Reentrenamos! Sigue siendo 20% superior al MAE 100, tendremos que comenzar una nueva modelización"
   ]
  },
  {
   "cell_type": "code",
   "execution_count": 44,
   "metadata": {},
   "outputs": [],
   "source": [
    "def suma(a, b):\n",
    "    return a + b"
   ]
  },
  {
   "cell_type": "code",
   "execution_count": 17,
   "metadata": {},
   "outputs": [],
   "source": [
    "def suma(a, b):\n",
    "    return float(a) + float(b)"
   ]
  },
  {
   "cell_type": "code",
   "execution_count": 24,
   "metadata": {},
   "outputs": [],
   "source": [
    "def test_suma_dev():\n",
    "    assert suma(1,3) == 4\n",
    "    assert suma(3,4) == 7\n",
    "    assert suma(\"10\", \"3\") == 13\n",
    "    assert suma(3.4, 2.1) == 5.5\n",
    "    assert suma(\"3.4\", \"2.1\") == 5.5\n",
    "    # assert suma(\"3,4\", \"2,1\") == 5.5"
   ]
  },
  {
   "cell_type": "code",
   "execution_count": 25,
   "metadata": {},
   "outputs": [],
   "source": [
    "test_suma_dev()"
   ]
  },
  {
   "cell_type": "code",
   "execution_count": 30,
   "metadata": {},
   "outputs": [],
   "source": [
    "def test_suma_customer():\n",
    "    test_suma_dev()\n",
    "    assert suma(\"3,4\", \"2,1\") == 5.5"
   ]
  },
  {
   "cell_type": "code",
   "execution_count": 33,
   "metadata": {},
   "outputs": [
    {
     "ename": "ValueError",
     "evalue": "could not convert string to float: '3,4'",
     "output_type": "error",
     "traceback": [
      "\u001b[1;31m---------------------------------------------------------------------------\u001b[0m",
      "\u001b[1;31mValueError\u001b[0m                                Traceback (most recent call last)",
      "Cell \u001b[1;32mIn[33], line 1\u001b[0m\n\u001b[1;32m----> 1\u001b[0m \u001b[43mtest_suma_customer\u001b[49m\u001b[43m(\u001b[49m\u001b[43m)\u001b[49m\n",
      "Cell \u001b[1;32mIn[30], line 3\u001b[0m, in \u001b[0;36mtest_suma_customer\u001b[1;34m()\u001b[0m\n\u001b[0;32m      1\u001b[0m \u001b[38;5;28;01mdef\u001b[39;00m \u001b[38;5;21mtest_suma_customer\u001b[39m():\n\u001b[0;32m      2\u001b[0m     test_suma_dev()\n\u001b[1;32m----> 3\u001b[0m     \u001b[38;5;28;01massert\u001b[39;00m \u001b[43msuma\u001b[49m\u001b[43m(\u001b[49m\u001b[38;5;124;43m\"\u001b[39;49m\u001b[38;5;124;43m3,4\u001b[39;49m\u001b[38;5;124;43m\"\u001b[39;49m\u001b[43m,\u001b[49m\u001b[43m \u001b[49m\u001b[38;5;124;43m\"\u001b[39;49m\u001b[38;5;124;43m2,1\u001b[39;49m\u001b[38;5;124;43m\"\u001b[39;49m\u001b[43m)\u001b[49m \u001b[38;5;241m==\u001b[39m \u001b[38;5;241m5.5\u001b[39m\n",
      "Cell \u001b[1;32mIn[31], line 6\u001b[0m, in \u001b[0;36msuma\u001b[1;34m(a, b)\u001b[0m\n\u001b[0;32m      4\u001b[0m \u001b[38;5;28;01mif\u001b[39;00m \u001b[38;5;28mtype\u001b[39m(b) \u001b[38;5;241m==\u001b[39m \u001b[38;5;28mstr\u001b[39m():\n\u001b[0;32m      5\u001b[0m     b \u001b[38;5;241m=\u001b[39m b\u001b[38;5;241m.\u001b[39mreplace(\u001b[38;5;124m\"\u001b[39m\u001b[38;5;124m,\u001b[39m\u001b[38;5;124m\"\u001b[39m,\u001b[38;5;124m'\u001b[39m\u001b[38;5;124m.\u001b[39m\u001b[38;5;124m'\u001b[39m)\n\u001b[1;32m----> 6\u001b[0m \u001b[38;5;28;01mreturn\u001b[39;00m \u001b[38;5;28mfloat\u001b[39m(a) \u001b[38;5;241m+\u001b[39m \u001b[38;5;28mfloat\u001b[39m(b)\n",
      "\u001b[1;31mValueError\u001b[0m: could not convert string to float: '3,4'"
     ]
    }
   ],
   "source": [
    "test_suma_customer()"
   ]
  },
  {
   "cell_type": "code",
   "execution_count": null,
   "metadata": {},
   "outputs": [],
   "source": []
  },
  {
   "cell_type": "code",
   "execution_count": 40,
   "metadata": {},
   "outputs": [],
   "source": [
    "def suma(a, b):\n",
    "    if type(a) == str:\n",
    "        a = a.replace(\",\",'.')\n",
    "    if type(b) == str:\n",
    "        b = b.replace(\",\",'.')\n",
    "    return float(a) + float(b)\n",
    "def test_suma_customer():\n",
    "    test_suma_dev()\n",
    "    assert suma(\"3,4\", \"2,1\") == 5.5"
   ]
  },
  {
   "cell_type": "code",
   "execution_count": 41,
   "metadata": {},
   "outputs": [],
   "source": [
    "def test_suma_dev():\n",
    "    assert suma(1,3) == 4\n",
    "    assert suma(3,4) == 7\n",
    "    assert suma(\"10\", \"3\") == 13\n",
    "    assert suma(3.4, 2.1) == 5.5\n",
    "    assert suma(\"3.4\", \"2.1\") == 5.5\n",
    "    # assert suma(\"3,4\", \"2,1\") == 5.5"
   ]
  },
  {
   "cell_type": "code",
   "execution_count": 42,
   "metadata": {},
   "outputs": [],
   "source": [
    "def test_suma_customer():\n",
    "    test_suma_dev()\n",
    "    assert suma(\"3,4\", \"2,1\") == 5.5"
   ]
  },
  {
   "cell_type": "code",
   "execution_count": 43,
   "metadata": {},
   "outputs": [],
   "source": [
    "test_suma_customer()"
   ]
  },
  {
   "cell_type": "code",
   "execution_count": null,
   "metadata": {},
   "outputs": [],
   "source": []
  }
 ],
 "metadata": {
  "kernelspec": {
   "display_name": "Python 3",
   "language": "python",
   "name": "python3"
  },
  "language_info": {
   "codemirror_mode": {
    "name": "ipython",
    "version": 3
   },
   "file_extension": ".py",
   "mimetype": "text/x-python",
   "name": "python",
   "nbconvert_exporter": "python",
   "pygments_lexer": "ipython3",
   "version": "3.11.3"
  },
  "orig_nbformat": 4
 },
 "nbformat": 4,
 "nbformat_minor": 2
}
